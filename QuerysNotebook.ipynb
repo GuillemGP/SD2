{
 "cells": [
  {
   "cell_type": "markdown",
   "id": "2d1b6397",
   "metadata": {},
   "source": [
    "# Sistemes Distribuïts\n",
    "## Curs 2020-2021\n",
    "### Víctor Cano i Guillem Gorgori"
   ]
  },
  {
   "cell_type": "code",
   "execution_count": 9,
   "id": "d6088d0e-87db-487c-82a9-64e203fbc300",
   "metadata": {
    "scrolled": false
   },
   "outputs": [
    {
     "ename": "ModuleNotFoundError",
     "evalue": "No module named 'lithops'",
     "output_type": "error",
     "traceback": [
      "\u001b[0;31m---------------------------------------------------------------------------\u001b[0m",
      "\u001b[0;31mModuleNotFoundError\u001b[0m                       Traceback (most recent call last)",
      "\u001b[0;32m<ipython-input-9-5960c8c4e71e>\u001b[0m in \u001b[0;36m<module>\u001b[0;34m\u001b[0m\n\u001b[0;32m----> 1\u001b[0;31m \u001b[0;32mimport\u001b[0m \u001b[0mlithops\u001b[0m\u001b[0;34m\u001b[0m\u001b[0;34m\u001b[0m\u001b[0m\n\u001b[0m\u001b[1;32m      2\u001b[0m \u001b[0;32mfrom\u001b[0m \u001b[0mlithops\u001b[0m \u001b[0;32mimport\u001b[0m \u001b[0mStorage\u001b[0m\u001b[0;34m\u001b[0m\u001b[0;34m\u001b[0m\u001b[0m\n\u001b[1;32m      3\u001b[0m \u001b[0;32mfrom\u001b[0m \u001b[0mmatplotlib\u001b[0m \u001b[0;32mimport\u001b[0m \u001b[0mpyplot\u001b[0m \u001b[0;32mas\u001b[0m \u001b[0mplt\u001b[0m\u001b[0;34m\u001b[0m\u001b[0;34m\u001b[0m\u001b[0m\n\u001b[1;32m      4\u001b[0m \u001b[0;32mimport\u001b[0m \u001b[0mmath\u001b[0m\u001b[0;34m\u001b[0m\u001b[0;34m\u001b[0m\u001b[0m\n\u001b[1;32m      5\u001b[0m \u001b[0;32mimport\u001b[0m \u001b[0mpandas\u001b[0m \u001b[0;32mas\u001b[0m \u001b[0mpd\u001b[0m\u001b[0;34m\u001b[0m\u001b[0;34m\u001b[0m\u001b[0m\n",
      "\u001b[0;31mModuleNotFoundError\u001b[0m: No module named 'lithops'"
     ]
    }
   ],
   "source": [
    "import lithops\n",
    "from lithops import Storage\n",
    "from matplotlib import pyplot as plt\n",
    "import math\n",
    "import pandas as pd\n",
    "from io import StringIO\n",
    "import numpy as np\n",
    "import matplotlib.pyplot as plt\n",
    "\n",
    "BUCKET = '2020sd'\n",
    "\n",
    "config = {'lithops' : {'storage_bucket' : BUCKET},\n",
    "\n",
    "          'ibm_cf':  {'endpoint': 'https://s3.eu-de.cloud-object-storage.appdomain.cloud',\n",
    "                      'namespace': 'guillem.gorgori@estudiants.urv.cat_dev',\n",
    "                      'api_key': 'hUKJ-4H0JyETfezS8XpZVEy8p6-BYhCsyPO8K8i_FVE9'},\n",
    "\n",
    "          'ibm_cos': {'region': 'eu-de',\n",
    "                      'api_key': 'hUKJ-4H0JyETfezS8XpZVEy8p6-BYhCsyPO8K8i_FVE9'}}\n",
    "\n",
    "storage = Storage(config=configIBMCloud.config)"
   ]
  },
  {
   "cell_type": "code",
   "execution_count": null,
   "id": "aa19bc34-44d5-4a99-ba2f-17865f97f470",
   "metadata": {},
   "outputs": [],
   "source": [
    "csv = storage.get_object(BUCKET, 'densitatPerPIB.csv')\n",
    "#formatting csv\n",
    "s=str(csv,'latin-1')\n",
    "data = StringIO(s) \n",
    "df=pd.read_csv(data,header=0,delimiter=',')\n",
    "#showing data\n",
    "x = df['DENSITAT']\n",
    "y = df['PIB_CAPITA']\n",
    "plt.scatter(x,y,label=\"PIB per capita i densitat\", color=\"blue\", marker=\".\", s=30)\n",
    "plt.xlabel('Densitat')\n",
    "plt.ylabel('PIB per capita')\n",
    "plt.title('PIB per capita segons densitat de població de comarca')\n",
    "plt.legend()\n",
    "plt.plot(x,p(x),\"r--\")\n",
    "plt.show()"
   ]
  },
  {
   "cell_type": "code",
   "execution_count": null,
   "id": "80353ffa-30b3-4a4d-800d-bb69cc294a4e",
   "metadata": {},
   "outputs": [],
   "source": [
    "csv = storage.get_object(BUCKET, 'llitsPerPIB.csv')\n",
    "#formatting csv\n",
    "s=str(csv,'latin-1')\n",
    "data = StringIO(s) \n",
    "df=pd.read_csv(data,header=0,delimiter=',')\n",
    "#showing data\n",
    "x = df['LLITS_1000_HAB']\n",
    "y = df['PIB_CAPITA']\n",
    "plt.scatter(x,y,label=\"llits per PIB\", color=\"blue\", marker=\".\", s=30)\n",
    "plt.xlabel('Llits hospitalaris a cada comarca per 1000 habitants')\n",
    "plt.ylabel('PIB per capita')\n",
    "plt.title('Llits segons el PIB per capita')\n",
    "plt.legend()\n",
    "plt.plot(x,p(x),\"r--\")\n",
    "plt.show()"
   ]
  },
  {
   "cell_type": "code",
   "execution_count": null,
   "id": "66791669-1fef-48f2-979c-afdecbdf3b29",
   "metadata": {},
   "outputs": [],
   "source": [
    "csv = storage.get_object(BUCKET, 'habitantsPerTipusComarca.csv')\n",
    "#formatting csv\n",
    "s=str(csv,'latin-1')\n",
    "data = StringIO(s) \n",
    "df=pd.read_csv(data,header=0,delimiter=',')\n",
    "#showing data\n",
    "muntanya = 0\n",
    "platja = 0\n",
    "interior = 0\n",
    "i = 0\n",
    "total = 0\n",
    "for h in df['HABITANTS']:\n",
    "    if df['TIPUS_COMARCA'][i] == 'Interior':\n",
    "        interior = interior + h\n",
    "    if df['TIPUS_COMARCA'][i] == 'Costa':\n",
    "        platja = platja + h\n",
    "    if df['TIPUS_COMARCA'][i] == 'Muntanya':\n",
    "        muntanya = muntanya + h\n",
    "    total = total + h\n",
    "    i=i+1\n",
    "labels = 'Interior', 'Costa', 'Muntanya'\n",
    "sizes = [(interior/total)*100,(platja/total)*100,(muntanya/total)*100]\n",
    "fig1, ax1 = plt.subplots()\n",
    "ax1.pie(sizes, labels=labels, autopct='%1.1f%%',\n",
    "        shadow=True, startangle=90)\n",
    "ax1.axis('equal')  # Equal aspect ratio ensures that pie is drawn as a circle.\n",
    "plt.title('Quantitat de poblacio segons tipus de territori')\n",
    "plt.show()"
   ]
  },
  {
   "cell_type": "code",
   "execution_count": null,
   "id": "7a9b1f75-63e6-4055-b2e1-8b4ab300d9be",
   "metadata": {},
   "outputs": [],
   "source": [
    "#csv = storage.get_object('2021sdvictor', 'positiusEntre15i64Anys.csv')\n",
    "#formatting csv\n",
    "#s=str(csv,'latin-1')\n",
    "#data = StringIO(s) \n",
    "df=pd.read_csv('positiusEntre15i64Anysv2.csv',header=0,delimiter=',') #SOLO PARA PRUEBAS EN LOCAL\n",
    "#showing data\n",
    "data = \"18/09/2020\"\n",
    "result = df.loc[df['DATA'] == data]\n",
    "fig = plt.figure()\n",
    "ax = fig.add_axes([0,0,1,1])\n",
    "print(result)\n",
    "ax.bar(result['COMARCA'],result['POSITIUS'])\n",
    "plt.xticks(rotation=90)\n",
    "plt.show()\n",
    "print(result)"
   ]
  },
  {
   "cell_type": "code",
   "execution_count": null,
   "id": "974aec57-cbd1-43e5-8c94-e7fe7684be09",
   "metadata": {},
   "outputs": [],
   "source": [
    "#csv = storage.get_object(BUCKET, 'positiusEntre15i64Anys.csv')\n",
    "#formatting csv\n",
    "#s=str(csv,'latin-1')\n",
    "#data = StringIO(s) \n",
    "df=pd.read_csv('positiusEntre15i64Anysv2.csv',header=0,delimiter=',') #SOLO PARA PRUEBAS EN LOCAL\n",
    "#showing data\n",
    "comarca = \"ALT CAMP\"\n",
    "result = df.loc[df['COMARCA'] == comarca]\n",
    "result['DATA'] = pd.to_datetime(result['DATA'])\n",
    "result = result.sort_values(by='DATA')\n",
    "result = result.head(315)\n",
    "fig = plt.figure()\n",
    "ax = fig.add_axes([0,0,1,1])\n",
    "ax.bar(result['DATA'],result['POSITIUS'])\n",
    "plt.xticks(rotation=90)\n",
    "ax.xaxis.set_major_locator(plt.MaxNLocator(10))\n",
    "plt.show()"
   ]
  },
  {
   "cell_type": "code",
   "execution_count": null,
   "id": "2d3e16dd",
   "metadata": {},
   "outputs": [],
   "source": [
    "#csv = storage.get_object('BUCKET, 'evolucioCovidEducatiuPositius.csv')\n",
    "#formatting csv\n",
    "#s=str(csv,'latin-1')\n",
    "#data = StringIO(s) \n",
    "df=pd.read_csv('evolucioCovidEducatiuPositius.csv',header=0,delimiter=',') #SOLO PARA PRUEBAS EN LOCAL\n",
    "codi_centre = 8000271 \n",
    "result = df.loc[df['CODI_CENTRE'] == codi_centre]\n",
    "result['DATA'] = pd.to_datetime(result['DATA'])\n",
    "result = result.sort_values(by='DATA')\n",
    "#result = result.head(315)\n",
    "fig = plt.figure()\n",
    "ax = fig.add_axes([0,0,1,1])\n",
    "ax.bar(result['DATA'],result['ALUMNES_POSITIUS_ACUM'])\n",
    "plt.xticks(rotation=90)\n",
    "ax.xaxis.set_major_locator(plt.MaxNLocator(10))\n",
    "plt.show()"
   ]
  },
  {
   "cell_type": "code",
   "execution_count": null,
   "id": "dd42f25a",
   "metadata": {},
   "outputs": [],
   "source": [
    "#csv = storage.get_object(BUCKET, 'evolucioCovidEducatiuPositius.csv')\n",
    "#formatting csv\n",
    "#s=str(csv,'latin-1')\n",
    "#data = StringIO(s) \n",
    "df=pd.read_csv('evolucioCovidEducatiuPositius.csv',header=0,delimiter=',') #SOLO PARA PRUEBAS EN LOCAL\n",
    "data = \"23/09/2020\" \n",
    "result = df.loc[df['DATA'] == data]\n",
    "#result = result.head(315)\n",
    "fig = plt.figure()\n",
    "ax = fig.add_axes([0,0,1,1])\n",
    "result.CODI_CENTRE = result.CODI_CENTRE.astype(str)\n",
    "ax.bar(result['CODI_CENTRE'],result['ALUMNES_POSITIUS_ACUM'])\n",
    "plt.ticklabel_format(style = 'plain')\n",
    "plt.show()"
   ]
  },
  {
   "cell_type": "code",
   "execution_count": null,
   "id": "dcb1094b",
   "metadata": {},
   "outputs": [],
   "source": []
  }
 ],
 "metadata": {
  "interpreter": {
   "hash": "ce1e901da04acbe50dd99cd0d91cb411cb2166c3507dec81ce620981a8df4741"
  },
  "kernelspec": {
   "display_name": "Python 3",
   "language": "python",
   "name": "python3"
  },
  "language_info": {
   "codemirror_mode": {
    "name": "ipython",
    "version": 3
   },
   "file_extension": ".py",
   "mimetype": "text/x-python",
   "name": "python",
   "nbconvert_exporter": "python",
   "pygments_lexer": "ipython3",
   "version": "3.9.5"
  }
 },
 "nbformat": 4,
 "nbformat_minor": 5
}
